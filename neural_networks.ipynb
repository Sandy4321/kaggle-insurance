{
 "cells": [
  {
   "cell_type": "code",
   "execution_count": 1,
   "metadata": {
    "collapsed": true
   },
   "outputs": [],
   "source": [
    "import pandas as pd\n",
    "import numpy as np\n",
    "from pybrain.tools.shortcuts import buildNetwork\n",
    "from pybrain.datasets import SupervisedDataSet\n",
    "from pybrain.supervised.trainers import BackpropTrainer\n",
    "import quadratic_weighted_kappa\n",
    "import feature_generator\n",
    "from pybrain.structure import FeedForwardNetwork\n",
    "from pybrain.structure import LinearLayer, SigmoidLayer\n",
    "from pybrain.structure import FullConnection\n",
    "from pybrain.structure import BiasUnit"
   ]
  },
  {
   "cell_type": "code",
   "execution_count": 2,
   "metadata": {
    "collapsed": false
   },
   "outputs": [],
   "source": [
    "dfTrain = pd.read_csv('train.csv')\n",
    "dfTest = pd.read_csv('test.csv')    "
   ]
  },
  {
   "cell_type": "code",
   "execution_count": 3,
   "metadata": {
    "collapsed": false
   },
   "outputs": [
    {
     "name": "stdout",
     "output_type": "stream",
     "text": [
      "Medical_History_2\n",
      "Medical_History_10\n"
     ]
    }
   ],
   "source": [
    "features = feature_generator.GetFeatures(dfTrain, dfTest, 100)"
   ]
  },
  {
   "cell_type": "code",
   "execution_count": 4,
   "metadata": {
    "collapsed": true
   },
   "outputs": [],
   "source": [
    "ds = SupervisedDataSet(len(features), 8)"
   ]
  },
  {
   "cell_type": "code",
   "execution_count": 5,
   "metadata": {
    "collapsed": false
   },
   "outputs": [
    {
     "data": {
      "text/plain": [
       "(array([], shape=(0, 327), dtype=float64),\n",
       " array([], shape=(0, 8), dtype=float64))"
      ]
     },
     "execution_count": 5,
     "metadata": {},
     "output_type": "execute_result"
    }
   ],
   "source": [
    "ds['input'], ds['target']"
   ]
  },
  {
   "cell_type": "code",
   "execution_count": 6,
   "metadata": {
    "collapsed": false
   },
   "outputs": [],
   "source": [
    "# target = dfTrain['Response'].values\n",
    "target = np.zeros((len(dfTrain), 8))\n",
    "for i in range(len(dfTrain)):\n",
    "        target[i,dfTrain.iloc[i]['Response'] - 1] = 1\n",
    "#         target[i] = dfTrain.iloc[i]['Response']"
   ]
  },
  {
   "cell_type": "code",
   "execution_count": 7,
   "metadata": {
    "collapsed": false
   },
   "outputs": [],
   "source": [
    "for i in range(len(dfTrain)):\n",
    "    ds.addSample(dfTrain.iloc[i][features].values, target[i])"
   ]
  },
  {
   "cell_type": "code",
   "execution_count": 22,
   "metadata": {
    "collapsed": false
   },
   "outputs": [],
   "source": [
    "net = buildNetwork(len(features),64,8, bias=True)\n",
    "\n",
    "# net = FeedForwardNetwork()\n",
    "# inLayer = LinearLayer(len(features))\n",
    "# hiddenLayer1 = SigmoidLayer(128)\n",
    "# hiddenLayer2 = SigmoidLayer(64)\n",
    "# outLayer = LinearLayer(8)\n",
    "\n",
    "# net.addInputModule(inLayer)\n",
    "# net.addModule(hiddenLayer1)\n",
    "# net.addModule(hiddenLayer2)\n",
    "# net.addOutputModule(outLayer)\n",
    "# net.addModule(BiasUnit(name = 'bias'))\n",
    "\n",
    "# in_to_hidden = FullConnection(inLayer, hiddenLayer1)\n",
    "# hidden1_to_hidden2 = FullConnection(hiddenLayer1, hiddenLayer2)\n",
    "# hidden_to_out = FullConnection(hiddenLayer2, outLayer)\n",
    "\n",
    "# net.addConnection(in_to_hidden)\n",
    "# # net.addConnection(FullConnection(net['bias'], hiddenLayer1))\n",
    "# # net.addConnection(FullConnection(net['bias'], hiddenLayer2))\n",
    "# net.addConnection(hidden1_to_hidden2)\n",
    "# net.addConnection(hidden_to_out)\n",
    "\n",
    "# net.sortModules()\n",
    "\n",
    "trainer = BackpropTrainer(net, ds, learningrate=0.01, momentum=0.05, verbose=True)"
   ]
  },
  {
   "cell_type": "code",
   "execution_count": 23,
   "metadata": {
    "collapsed": false,
    "scrolled": true
   },
   "outputs": [
    {
     "name": "stdout",
     "output_type": "stream",
     "text": [
      "Total error: 0.0689725681423\n",
      "Total error: 0.0576597263429\n",
      "Total error: 0.0568761265576\n",
      "Total error: 0.0566508699597\n",
      "Total error: 0.0565277223072\n",
      "Total error: 0.0562112673956\n",
      "train-errors: [  0.068973  0.057660  0.056876  0.056651  0.056528  0.056211  0.051451]\n",
      "valid-errors: [  4.213695  0.052472  0.054363  0.051966  0.061029  0.056644  0.054452]\n"
     ]
    },
    {
     "data": {
      "text/plain": [
       "([0.068972568142296478,\n",
       "  0.057659726342945326,\n",
       "  0.056876126557550359,\n",
       "  0.056650869959709027,\n",
       "  0.056527722307169334,\n",
       "  0.056211267395612295,\n",
       "  0.051450896338997382],\n",
       " [4.2136953277920197,\n",
       "  0.05247234981623667,\n",
       "  0.054363243175196904,\n",
       "  0.051965572306197354,\n",
       "  0.061028731841472769,\n",
       "  0.056643506227481502,\n",
       "  0.054452298765444787])"
      ]
     },
     "execution_count": 23,
     "metadata": {},
     "output_type": "execute_result"
    }
   ],
   "source": [
    "# error = trainer.train()\n",
    "# errors = [error,]\n",
    "trainer.trainUntilConvergence(maxEpochs = 5)\n",
    "# for iterations in range(3):\n",
    "#     print iterations, errors[-1]\n",
    "#     errors.append(trainer.train())"
   ]
  },
  {
   "cell_type": "code",
   "execution_count": 24,
   "metadata": {
    "collapsed": false
   },
   "outputs": [],
   "source": [
    "predictions = trainer.testOnClassData()"
   ]
  },
  {
   "cell_type": "code",
   "execution_count": 25,
   "metadata": {
    "collapsed": false
   },
   "outputs": [],
   "source": [
    "predictions = np.asarray(predictions) + 1\n",
    "# predictions = np.clip(np.asarray(predictions), 1, 8)\n"
   ]
  },
  {
   "cell_type": "code",
   "execution_count": 26,
   "metadata": {
    "collapsed": false
   },
   "outputs": [
    {
     "name": "stdout",
     "output_type": "stream",
     "text": [
      "[8 4 8 ..., 8 8 8]\n"
     ]
    }
   ],
   "source": [
    "print predictions"
   ]
  },
  {
   "cell_type": "code",
   "execution_count": 27,
   "metadata": {
    "collapsed": false
   },
   "outputs": [
    {
     "name": "stdout",
     "output_type": "stream",
     "text": [
      "0.11163437123\n"
     ]
    }
   ],
   "source": [
    "print quadratic_weighted_kappa.quadratic_weighted_kappa(predictions, dfTrain['Response'])"
   ]
  },
  {
   "cell_type": "code",
   "execution_count": null,
   "metadata": {
    "collapsed": false
   },
   "outputs": [],
   "source": []
  },
  {
   "cell_type": "code",
   "execution_count": null,
   "metadata": {
    "collapsed": true
   },
   "outputs": [],
   "source": []
  },
  {
   "cell_type": "code",
   "execution_count": null,
   "metadata": {
    "collapsed": true
   },
   "outputs": [],
   "source": []
  }
 ],
 "metadata": {
  "kernelspec": {
   "display_name": "Python 2",
   "language": "python",
   "name": "python2"
  },
  "language_info": {
   "codemirror_mode": {
    "name": "ipython",
    "version": 2
   },
   "file_extension": ".py",
   "mimetype": "text/x-python",
   "name": "python",
   "nbconvert_exporter": "python",
   "pygments_lexer": "ipython2",
   "version": "2.7.10"
  }
 },
 "nbformat": 4,
 "nbformat_minor": 0
}
