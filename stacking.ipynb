{
 "cells": [
  {
   "cell_type": "code",
   "execution_count": 1,
   "metadata": {
    "collapsed": true
   },
   "outputs": [],
   "source": [
    "import pandas as pd\n",
    "import numpy as np\n",
    "from sklearn.linear_model import LogisticRegression\n",
    "from sklearn.linear_model import LinearRegression\n",
    "from sklearn.cross_validation import KFold\n",
    "import quadratic_weighted_kappa\n",
    "from sklearn.metrics import make_scorer\n",
    "from sklearn.cross_validation import train_test_split\n",
    "import feature_generator\n",
    "from scipy.stats import pearsonr"
   ]
  },
  {
   "cell_type": "code",
   "execution_count": 2,
   "metadata": {
    "collapsed": true
   },
   "outputs": [],
   "source": [
    "dfTrain = pd.read_csv('train.csv')\n",
    "dfTest = pd.read_csv('test.csv')    "
   ]
  },
  {
   "cell_type": "code",
   "execution_count": 3,
   "metadata": {
    "collapsed": true
   },
   "outputs": [],
   "source": [
    "def GetBestModel(modelsToUse):\n",
    "    \n",
    "    K = 3\n",
    "    bestQwk = -1\n",
    "    bestModel = None\n",
    "    kf = KFold(len(dfTrain), K)\n",
    "    meanTestQwk = 0\n",
    "    meanTrainQwk = 0\n",
    "    num = 1\n",
    "\n",
    "    for train_index, test_index in kf:\n",
    "        \n",
    "        frames = [pd.read_csv('fold%s.csv' % str(i)) for i in range(1, K+1) if i != num  ]\n",
    "        trainModelPredictions = pd.concat(frames)  \n",
    "        \n",
    "        xTrain = trainModelPredictions[modelsToUse].values\n",
    "        yTrain = dfTrain.iloc[train_index]['Response']\n",
    "                \n",
    "        model = LinearRegression()\n",
    "        model.fit(xTrain, yTrain)\n",
    "\n",
    "        xTest = pd.read_csv('fold%s.csv' % str(num))[modelsToUse].values\n",
    "        yTest = dfTrain.iloc[test_index]['Response']\n",
    "\n",
    "        predictions = np.clip(np.rint(model.predict(xTest)).astype(int), 1, 8)\n",
    "        trainPredictions = np.clip(np.rint(model.predict(xTrain)).astype(int), 1, 8)\n",
    "        \n",
    "        testQwk = quadratic_weighted_kappa.quadratic_weighted_kappa(predictions, yTest)\n",
    "        trainQwk = quadratic_weighted_kappa.quadratic_weighted_kappa(trainPredictions, yTrain)\n",
    "        \n",
    "        print \"TestQWK: %s\\n\" % testQwk\n",
    "        print \"Train QWK: %s\\n\" % trainQwk\n",
    "        \n",
    "        meanTestQwk += (testQwk / K)\n",
    "        meanTrainQwk += (trainQwk / K)\n",
    "        \n",
    "        if testQwk > bestQwk:\n",
    "            bestQwk= testQwk\n",
    "            bestModel = model  \n",
    "            \n",
    "        num += 1\n",
    "\n",
    "    return bestModel, meanTestQwk, meanTrainQwk"
   ]
  },
  {
   "cell_type": "code",
   "execution_count": 26,
   "metadata": {
    "collapsed": false
   },
   "outputs": [],
   "source": [
    "def WritePredictionsToFile(stackingModel, modelsToUse, dfTest):\n",
    "        X = pd.read_csv('testPredictions.csv')[modelsToUse].values\n",
    "        predictions = np.clip(np.rint(stackingModel.predict(X)).astype(int), 1, 8)\n",
    "        predDf = pd.DataFrame()\n",
    "        predDf['Id'] = dfTest['Id']\n",
    "        predDf['Response'] = predictions\n",
    "        print predictions\n",
    "        predDf.to_csv(path_or_buf='xgbCombo.csv', columns=['Id', 'Response'], index=False, header=['Id', 'Response'])"
   ]
  },
  {
   "cell_type": "code",
   "execution_count": 13,
   "metadata": {
    "collapsed": false
   },
   "outputs": [
    {
     "name": "stdout",
     "output_type": "stream",
     "text": [
      "TestQWK: 0.605393839227\n",
      "\n",
      "Train QWK: 0.608425411559\n",
      "\n",
      "TestQWK: 0.605755770079\n",
      "\n",
      "Train QWK: 0.609462186597\n",
      "\n",
      "TestQWK: 0.611050074564\n",
      "\n",
      "Train QWK: 0.604622406375\n",
      "\n"
     ]
    }
   ],
   "source": [
    "modelsToUse = ['LogisticRegression', 'BaggingLinearRegression_n_estimators=10', 'XGBoost', 'BaggingDescisionTrees_n_estimators=20']\n",
    "#                ']\n",
    "# modelsToUse = [\n",
    "model, _, _ = GetBestModel(modelsToUse)"
   ]
  },
  {
   "cell_type": "code",
   "execution_count": 27,
   "metadata": {
    "collapsed": false
   },
   "outputs": [
    {
     "name": "stdout",
     "output_type": "stream",
     "text": [
      "[3 6 6 ..., 4 3 3]\n"
     ]
    }
   ],
   "source": [
    "WritePredictionsToFile(model, modelsToUse, dfTest)"
   ]
  },
  {
   "cell_type": "code",
   "execution_count": 14,
   "metadata": {
    "collapsed": false
   },
   "outputs": [
    {
     "name": "stdout",
     "output_type": "stream",
     "text": [
      "BaggingDescisionTrees_n_estimators=20, BaggingLinearRegression_n_estimators=10, (0.82499924867883212, 0.0)\n",
      "BaggingDescisionTrees_n_estimators=20, LogisticRegression, (0.70820642260934052, 0.0)\n",
      "BaggingDescisionTrees_n_estimators=20, XGBoost, (0.90503228130107249, 0.0)\n",
      "BaggingLinearRegression_n_estimators=10, LogisticRegression, (0.8059315280605025, 0.0)\n",
      "BaggingLinearRegression_n_estimators=10, XGBoost, (0.89666039594474478, 0.0)\n",
      "LogisticRegression, XGBoost, (0.77818405579561756, 0.0)\n"
     ]
    }
   ],
   "source": [
    "fold1 = pd.read_csv('fold1.csv')\n",
    "\n",
    "for i in range(len(fold1.columns)):\n",
    "    for j in range(i + 1, len(fold1.columns)):        \n",
    "        print \"%s, %s, %s\" % (fold1.columns[i], fold1.columns[j], pearsonr(fold1[fold1.columns[i]], fold1[fold1.columns[j]]))"
   ]
  },
  {
   "cell_type": "code",
   "execution_count": null,
   "metadata": {
    "collapsed": true
   },
   "outputs": [],
   "source": []
  }
 ],
 "metadata": {
  "kernelspec": {
   "display_name": "Python 2",
   "language": "python",
   "name": "python2"
  },
  "language_info": {
   "codemirror_mode": {
    "name": "ipython",
    "version": 2
   },
   "file_extension": ".py",
   "mimetype": "text/x-python",
   "name": "python",
   "nbconvert_exporter": "python",
   "pygments_lexer": "ipython2",
   "version": "2.7.10"
  }
 },
 "nbformat": 4,
 "nbformat_minor": 0
}
