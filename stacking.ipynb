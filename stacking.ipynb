{
 "cells": [
  {
   "cell_type": "code",
   "execution_count": 34,
   "metadata": {
    "collapsed": true
   },
   "outputs": [],
   "source": [
    "import pandas as pd\n",
    "import numpy as np\n",
    "from sklearn.linear_model import LogisticRegression\n",
    "from sklearn.linear_model import LinearRegression\n",
    "from sklearn.cross_validation import KFold\n",
    "import quadratic_weighted_kappa\n",
    "from sklearn.metrics import make_scorer\n",
    "from sklearn.cross_validation import train_test_split\n",
    "import feature_generator\n",
    "from scipy.stats import pearsonr"
   ]
  },
  {
   "cell_type": "code",
   "execution_count": 3,
   "metadata": {
    "collapsed": true
   },
   "outputs": [],
   "source": [
    "dfTrain = pd.read_csv('train.csv')\n",
    "dfTest = pd.read_csv('test.csv')    "
   ]
  },
  {
   "cell_type": "code",
   "execution_count": 31,
   "metadata": {
    "collapsed": true
   },
   "outputs": [],
   "source": [
    "def GetBestModel(modelsToUse):\n",
    "    \n",
    "    K = 3\n",
    "    bestQwk = -1\n",
    "    bestModel = None\n",
    "    kf = KFold(len(dfTrain), K)\n",
    "    meanTestQwk = 0\n",
    "    meanTrainQwk = 0\n",
    "    num = 1\n",
    "\n",
    "    for train_index, test_index in kf:\n",
    "        \n",
    "        frames = [pd.read_csv('fold%s.csv' % str(i)) for i in range(1, K+1) if i != num  ]\n",
    "        trainModelPredictions = pd.concat(frames)  \n",
    "        \n",
    "        xTrain = trainModelPredictions[modelsToUse].values\n",
    "        yTrain = dfTrain.iloc[train_index]['Response']\n",
    "                \n",
    "        model = LinearRegression()\n",
    "        model.fit(xTrain, yTrain)\n",
    "\n",
    "        xTest = pd.read_csv('fold%s.csv' % str(num))[modelsToUse].values\n",
    "        yTest = dfTrain.iloc[test_index]['Response']\n",
    "\n",
    "        predictions = np.clip(np.rint(model.predict(xTest)).astype(int), 1, 8)\n",
    "        trainPredictions = np.clip(np.rint(model.predict(xTrain)).astype(int), 1, 8)\n",
    "        \n",
    "        testQwk = quadratic_weighted_kappa.quadratic_weighted_kappa(predictions, yTest)\n",
    "        trainQwk = quadratic_weighted_kappa.quadratic_weighted_kappa(trainPredictions, yTrain)\n",
    "        \n",
    "        print \"TestQWK: %s\\n\" % testQwk\n",
    "        print \"Train QWK: %s\\n\" % trainQwk\n",
    "        \n",
    "        meanTestQwk += (testQwk / K)\n",
    "        meanTrainQwk += (trainQwk / K)\n",
    "        \n",
    "        if testQwk > bestQwk:\n",
    "            bestQwk= testQwk\n",
    "            bestModel = model  \n",
    "            \n",
    "        num += 1\n",
    "\n",
    "    return bestModel, meanTestQwk, meanTrainQwk"
   ]
  },
  {
   "cell_type": "code",
   "execution_count": 44,
   "metadata": {
    "collapsed": false
   },
   "outputs": [
    {
     "name": "stdout",
     "output_type": "stream",
     "text": [
      "TestQWK: 0.587738269752\n",
      "\n",
      "Train QWK: 0.590360710016\n",
      "\n",
      "TestQWK: 0.58582486302\n",
      "\n",
      "Train QWK: 0.591686995835\n",
      "\n",
      "TestQWK: 0.595065609256\n",
      "\n",
      "Train QWK: 0.586881242969\n",
      "\n"
     ]
    }
   ],
   "source": [
    "modelsToUse = ['LogisticRegression', 'BaggingLinearRegression_n_estimators=10', 'BaggingDescisionTres_n_estimators=20']\n",
    "model, _, _ = GetBestModel(modelsToUse)"
   ]
  },
  {
   "cell_type": "code",
   "execution_count": 45,
   "metadata": {
    "collapsed": false
   },
   "outputs": [
    {
     "name": "stdout",
     "output_type": "stream",
     "text": [
      "[ 0.07809293  0.44807893  0.52070013]\n",
      "-0.303474966696\n"
     ]
    }
   ],
   "source": [
    "print model.coef_\n",
    "print model.intercept_"
   ]
  },
  {
   "cell_type": "code",
   "execution_count": 39,
   "metadata": {
    "collapsed": false
   },
   "outputs": [
    {
     "name": "stdout",
     "output_type": "stream",
     "text": [
      "LogisticRegression, LinearRegression, (0.80610295078124594, 0.0)\n",
      "LogisticRegression, BaggingLinearRegression_n_estimators=10, (0.80567055253887121, 0.0)\n",
      "LogisticRegression, BaggingDescisionTres_n_estimators=20, (0.70481985974407857, 0.0)\n",
      "LogisticRegression, SVC_C=20_g=0.05, (0.42792111204520739, 0.0)\n",
      "LinearRegression, BaggingLinearRegression_n_estimators=10, (0.99958321215324886, 0.0)\n",
      "LinearRegression, BaggingDescisionTres_n_estimators=20, (0.81975736915972996, 0.0)\n",
      "LinearRegression, SVC_C=20_g=0.05, (0.50428200271180568, 0.0)\n",
      "BaggingLinearRegression_n_estimators=10, BaggingDescisionTres_n_estimators=20, (0.81938633641483039, 0.0)\n",
      "BaggingLinearRegression_n_estimators=10, SVC_C=20_g=0.05, (0.5031677152634354, 0.0)\n",
      "BaggingDescisionTres_n_estimators=20, SVC_C=20_g=0.05, (0.46936555715234435, 0.0)\n"
     ]
    }
   ],
   "source": [
    "fold1 = pd.read_csv('fold1.csv')\n",
    "\n",
    "for i in range(len(fold1.columns)):\n",
    "    for j in range(i + 1, len(fold1.columns)):        \n",
    "        print \"%s, %s, %s\" % (fold1.columns[i], fold1.columns[j], pearsonr(fold1[fold1.columns[i]], fold1[fold1.columns[j]]))"
   ]
  },
  {
   "cell_type": "code",
   "execution_count": null,
   "metadata": {
    "collapsed": true
   },
   "outputs": [],
   "source": []
  }
 ],
 "metadata": {
  "kernelspec": {
   "display_name": "Python 2",
   "language": "python",
   "name": "python2"
  },
  "language_info": {
   "codemirror_mode": {
    "name": "ipython",
    "version": 2
   },
   "file_extension": ".py",
   "mimetype": "text/x-python",
   "name": "python",
   "nbconvert_exporter": "python",
   "pygments_lexer": "ipython2",
   "version": "2.7.8"
  }
 },
 "nbformat": 4,
 "nbformat_minor": 0
}
